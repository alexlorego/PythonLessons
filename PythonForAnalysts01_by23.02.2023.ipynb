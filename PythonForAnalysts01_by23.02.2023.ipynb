{
 "cells": [
  {
   "cell_type": "markdown",
   "id": "232b8fdf",
   "metadata": {},
   "source": [
    "## **Задача 1**\n",
    "На складе лежат разные фрукты в разном количестве.\n",
    "Нужно написать функцию, которая на вход принимает любое количество названий фруктов и их количество, а возвращает общее количество фруктов на складе"
   ]
  },
  {
   "cell_type": "code",
   "execution_count": 1,
   "id": "ea1c91e1",
   "metadata": {},
   "outputs": [],
   "source": [
    "def check_inv(**products) -> int:\n",
    "    result = 0\n",
    "    for key, value in products.items():\n",
    "        result += value\n",
    "    return result "
   ]
  },
  {
   "cell_type": "code",
   "execution_count": 2,
   "id": "2e098cc3",
   "metadata": {},
   "outputs": [
    {
     "data": {
      "text/plain": [
       "21"
      ]
     },
     "execution_count": 2,
     "metadata": {},
     "output_type": "execute_result"
    }
   ],
   "source": [
    "check_inv(banana = 5, mango = 8, apple = 3, orange = 4, coconuts = 1)"
   ]
  },
  {
   "cell_type": "markdown",
   "id": "0d24127b",
   "metadata": {},
   "source": [
    "## **Задача 2** \n",
    "Дан список с затратами на рекламу. Но в данных есть ошибки, некоторые затраты имеют отрицательную величину. Удалите такие значения из списка и посчитайте суммарные затраты\n",
    "[100, 125, -90, 345, 655, -1, 0, 200]"
   ]
  },
  {
   "cell_type": "code",
   "execution_count": 3,
   "id": "d3f5dbcb",
   "metadata": {},
   "outputs": [],
   "source": [
    "input_data = [100, 125, -90, 345, 655, -1, 0, 200]"
   ]
  },
  {
   "cell_type": "code",
   "execution_count": 4,
   "id": "38a8b410",
   "metadata": {},
   "outputs": [
    {
     "name": "stdout",
     "output_type": "stream",
     "text": [
      "[100, 125, 345, 655, 200]\n",
      "Суммарные затраты: 1425\n"
     ]
    }
   ],
   "source": [
    "result = [i for i in input_data if i > 0]\n",
    "print(result)\n",
    "print(f'Суммарные затраты: {sum(result)}')"
   ]
  },
  {
   "cell_type": "markdown",
   "id": "dc19b064",
   "metadata": {},
   "source": [
    "## **Задача 3**\n",
    "Даны два списка. Даты покупок и суммы покупок по датам:"
   ]
  },
  {
   "cell_type": "code",
   "execution_count": 5,
   "id": "1ff7699d",
   "metadata": {},
   "outputs": [],
   "source": [
    "dates = ['2021-09-14', '2021-12-15', '2021-09-08', '2021-12-05', '2021-10-09', '2021-09-30', \n",
    "        '2021-12-22', '2021-11-29', '2021-12-24', '2021-11-26', '2021-10-27', '2021-12-18',\n",
    "        '2021-11-09', '2021-11-23', '2021-09-27', '2021-10-02', '2021-12-27', '2021-09-20',\n",
    "        '2021-12-13', '2021-11-01', '2021-11-09', '2021-12-06', '2021-12-08', '2021-10-09',\n",
    "        '2021-10-31', '2021-09-30', '2021-11-09', '2021-12-13', '2021-10-26', '2021-12-09']\n",
    "\n",
    "sums = [1270, 8413, 9028, 3703, 5739, 4095, 295, 4944, 5723, 3701, 4471, 651, 7037, 4274,\n",
    "        6275, 4988, 6930, 2971, 6592, 2004, 2822, 519, 3406, 2732, 5015, 2008, 316, 6333,\n",
    "        5700, 2887]"
   ]
  },
  {
   "cell_type": "markdown",
   "id": "9b5428c8",
   "metadata": {},
   "source": [
    "### 3.1 \n",
    "Найдите, какая выручка у компании в ноябре \n",
    "Используйте list comprehensions"
   ]
  },
  {
   "cell_type": "code",
   "execution_count": 6,
   "id": "a4378ba9",
   "metadata": {},
   "outputs": [
    {
     "data": {
      "text/plain": [
       "25098"
      ]
     },
     "execution_count": 6,
     "metadata": {},
     "output_type": "execute_result"
    }
   ],
   "source": [
    "nov_rev = sum([sums[i] for i in range(len(dates)) if dates[i][:7] == '2021-11'])\n",
    "nov_rev"
   ]
  },
  {
   "cell_type": "markdown",
   "id": "8ee94cc8",
   "metadata": {},
   "source": [
    "### 3.2 \n",
    "Найдите выручку компании в зависимости от месяца\n",
    "Для этого напишите функцию, которая на вход принимает список с датами и список с выручкой, а на выходе словарь, где ключи - это месяцы, а значения - это выручка."
   ]
  },
  {
   "cell_type": "code",
   "execution_count": 7,
   "id": "912db5d1",
   "metadata": {},
   "outputs": [],
   "source": [
    "dates_monthly = [i[:7] for i in dates]"
   ]
  },
  {
   "cell_type": "code",
   "execution_count": 8,
   "id": "197bb1ac",
   "metadata": {},
   "outputs": [],
   "source": [
    "def monthly_revenue1(dates: list, sums: list) -> dict:\n",
    "    dic = {}\n",
    "    for d, s in zip(dates, sums):\n",
    "        key = d\n",
    "        try:\n",
    "            dic[key] += s\n",
    "        except KeyError:\n",
    "            dic[key] = s\n",
    "    return dic  "
   ]
  },
  {
   "cell_type": "code",
   "execution_count": 9,
   "id": "e4b4dcd7",
   "metadata": {},
   "outputs": [],
   "source": [
    "def monthly_revenue2(dates: list, sums: list) -> dict:\n",
    "    dic = {}\n",
    "    for d, s in zip(dates, sums):\n",
    "        key = d\n",
    "        dic[key] = dic.get(key, 0) + s\n",
    "    return dic "
   ]
  },
  {
   "cell_type": "code",
   "execution_count": 10,
   "id": "4f144df3",
   "metadata": {},
   "outputs": [
    {
     "data": {
      "text/plain": [
       "{'2021-09': 25647, '2021-12': 45452, '2021-10': 28645, '2021-11': 25098}"
      ]
     },
     "execution_count": 10,
     "metadata": {},
     "output_type": "execute_result"
    }
   ],
   "source": [
    "monthly_revenue1(dates_monthly, sums)"
   ]
  },
  {
   "cell_type": "code",
   "execution_count": 11,
   "id": "4d8f1e75",
   "metadata": {},
   "outputs": [
    {
     "data": {
      "text/plain": [
       "{'2021-09': 25647, '2021-12': 45452, '2021-10': 28645, '2021-11': 25098}"
      ]
     },
     "execution_count": 11,
     "metadata": {},
     "output_type": "execute_result"
    }
   ],
   "source": [
    "monthly_revenue2(dates_monthly, sums)"
   ]
  }
 ],
 "metadata": {
  "kernelspec": {
   "display_name": "Python 3 (ipykernel)",
   "language": "python",
   "name": "python3"
  },
  "language_info": {
   "codemirror_mode": {
    "name": "ipython",
    "version": 3
   },
   "file_extension": ".py",
   "mimetype": "text/x-python",
   "name": "python",
   "nbconvert_exporter": "python",
   "pygments_lexer": "ipython3",
   "version": "3.8.10"
  },
  "vscode": {
   "interpreter": {
    "hash": "8384712f827c73b71ec1d871aaffaaf3604c18a78a335b5adcc2028fc4cb4b02"
   }
  }
 },
 "nbformat": 4,
 "nbformat_minor": 5
}
